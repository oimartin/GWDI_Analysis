{
 "cells": [
  {
   "cell_type": "code",
   "execution_count": 1,
   "metadata": {},
   "outputs": [],
   "source": [
    "# Import dependencies\n",
    "import pandas as pd"
   ]
  },
  {
   "cell_type": "code",
   "execution_count": 2,
   "metadata": {},
   "outputs": [],
   "source": [
    "# Save csv file name to 'file'\n",
    "file = \"/Users/Olivia/Box Sync/DSC - Techs/GWDI_orders/GWDI_orders_coding.csv\""
   ]
  },
  {
   "cell_type": "code",
   "execution_count": 3,
   "metadata": {},
   "outputs": [],
   "source": [
    "# Import csv file as df\n",
    "gwdi_df = pd.read_csv(file)"
   ]
  },
  {
   "cell_type": "code",
   "execution_count": 4,
   "metadata": {},
   "outputs": [
    {
     "data": {
      "text/html": [
       "<div>\n",
       "<style scoped>\n",
       "    .dataframe tbody tr th:only-of-type {\n",
       "        vertical-align: middle;\n",
       "    }\n",
       "\n",
       "    .dataframe tbody tr th {\n",
       "        vertical-align: top;\n",
       "    }\n",
       "\n",
       "    .dataframe thead th {\n",
       "        text-align: right;\n",
       "    }\n",
       "</style>\n",
       "<table border=\"1\" class=\"dataframe\">\n",
       "  <thead>\n",
       "    <tr style=\"text-align: right;\">\n",
       "      <th></th>\n",
       "      <th>Order #</th>\n",
       "      <th>Name</th>\n",
       "      <th>Order Date</th>\n",
       "      <th>Number Strains Per Order</th>\n",
       "      <th>Strains Ordered</th>\n",
       "      <th>Single/ Multi</th>\n",
       "      <th>Plated</th>\n",
       "      <th>Growing?</th>\n",
       "      <th>Form Spores?</th>\n",
       "      <th>Replated</th>\n",
       "      <th>Shipped</th>\n",
       "      <th>Harvest Plate</th>\n",
       "      <th>Stored</th>\n",
       "      <th>Tested</th>\n",
       "      <th>Unnamed: 14</th>\n",
       "    </tr>\n",
       "  </thead>\n",
       "  <tbody>\n",
       "    <tr>\n",
       "      <th>0</th>\n",
       "      <td>1</td>\n",
       "      <td>Chris Dinh</td>\n",
       "      <td>4/25/18</td>\n",
       "      <td>1</td>\n",
       "      <td>GWDI_50_D_4</td>\n",
       "      <td>single</td>\n",
       "      <td>4/25/18</td>\n",
       "      <td>yes</td>\n",
       "      <td>NaN</td>\n",
       "      <td>5/4/18</td>\n",
       "      <td>5/7/18</td>\n",
       "      <td>5/8/18</td>\n",
       "      <td>5/10/18</td>\n",
       "      <td>5/14/18</td>\n",
       "      <td>NaN</td>\n",
       "    </tr>\n",
       "    <tr>\n",
       "      <th>1</th>\n",
       "      <td>1</td>\n",
       "      <td>Chris Dinh</td>\n",
       "      <td>4/25/18</td>\n",
       "      <td>2</td>\n",
       "      <td>GWDI_215_G_9</td>\n",
       "      <td>single</td>\n",
       "      <td>4/25/18</td>\n",
       "      <td>not growing</td>\n",
       "      <td>not growing</td>\n",
       "      <td>not growing</td>\n",
       "      <td>not growing</td>\n",
       "      <td>not growing</td>\n",
       "      <td>not growing</td>\n",
       "      <td>not growing</td>\n",
       "      <td>NaN</td>\n",
       "    </tr>\n",
       "    <tr>\n",
       "      <th>2</th>\n",
       "      <td>1</td>\n",
       "      <td>Chris Dinh</td>\n",
       "      <td>4/25/18</td>\n",
       "      <td>3</td>\n",
       "      <td>GWDI_165_A_8</td>\n",
       "      <td>single</td>\n",
       "      <td>4/25/18</td>\n",
       "      <td>yes</td>\n",
       "      <td>yes</td>\n",
       "      <td>5/4/18</td>\n",
       "      <td>5/7/18</td>\n",
       "      <td>5/8/18</td>\n",
       "      <td>5/10/18</td>\n",
       "      <td>5/14/18</td>\n",
       "      <td>NaN</td>\n",
       "    </tr>\n",
       "    <tr>\n",
       "      <th>3</th>\n",
       "      <td>1</td>\n",
       "      <td>Chris Dinh</td>\n",
       "      <td>4/25/18</td>\n",
       "      <td>4</td>\n",
       "      <td>GWDI_26_B_11</td>\n",
       "      <td>single</td>\n",
       "      <td>4/25/18</td>\n",
       "      <td>yes</td>\n",
       "      <td>NaN</td>\n",
       "      <td>5/4/18</td>\n",
       "      <td>5/7/18</td>\n",
       "      <td>5/8/18</td>\n",
       "      <td>5/10/18</td>\n",
       "      <td>5/14/18</td>\n",
       "      <td>NaN</td>\n",
       "    </tr>\n",
       "    <tr>\n",
       "      <th>4</th>\n",
       "      <td>2</td>\n",
       "      <td>Xinlu Chen</td>\n",
       "      <td>4/25/18</td>\n",
       "      <td>1</td>\n",
       "      <td>GWDI_295_B_2</td>\n",
       "      <td>multi 14</td>\n",
       "      <td>4/27/18</td>\n",
       "      <td>yes</td>\n",
       "      <td>na</td>\n",
       "      <td>5/9/18</td>\n",
       "      <td>5/14/18</td>\n",
       "      <td>5/11/18</td>\n",
       "      <td>5/16/18</td>\n",
       "      <td>5/21/18</td>\n",
       "      <td>NaN</td>\n",
       "    </tr>\n",
       "  </tbody>\n",
       "</table>\n",
       "</div>"
      ],
      "text/plain": [
       "   Order #        Name Order Date  Number Strains Per Order Strains Ordered  \\\n",
       "0        1  Chris Dinh    4/25/18                         1     GWDI_50_D_4   \n",
       "1        1  Chris Dinh    4/25/18                         2    GWDI_215_G_9   \n",
       "2        1  Chris Dinh    4/25/18                         3    GWDI_165_A_8   \n",
       "3        1  Chris Dinh    4/25/18                         4    GWDI_26_B_11   \n",
       "4        2  Xinlu Chen    4/25/18                         1    GWDI_295_B_2   \n",
       "\n",
       "  Single/ Multi   Plated     Growing? Form Spores?     Replated      Shipped  \\\n",
       "0        single  4/25/18          yes          NaN       5/4/18       5/7/18   \n",
       "1        single  4/25/18  not growing  not growing  not growing  not growing   \n",
       "2        single  4/25/18          yes          yes       5/4/18       5/7/18   \n",
       "3        single  4/25/18          yes          NaN       5/4/18       5/7/18   \n",
       "4      multi 14  4/27/18          yes           na       5/9/18      5/14/18   \n",
       "\n",
       "  Harvest Plate       Stored       Tested Unnamed: 14  \n",
       "0        5/8/18      5/10/18      5/14/18         NaN  \n",
       "1   not growing  not growing  not growing         NaN  \n",
       "2        5/8/18      5/10/18      5/14/18         NaN  \n",
       "3        5/8/18      5/10/18      5/14/18         NaN  \n",
       "4       5/11/18      5/16/18      5/21/18         NaN  "
      ]
     },
     "execution_count": 4,
     "metadata": {},
     "output_type": "execute_result"
    }
   ],
   "source": [
    "# Preview df\n",
    "gwdi_df.head()"
   ]
  },
  {
   "cell_type": "code",
   "execution_count": null,
   "metadata": {},
   "outputs": [],
   "source": [
    "# Get count of number of GWDI strains ordered\n",
    "gwdi_df.describe()"
   ]
  },
  {
   "cell_type": "code",
   "execution_count": null,
   "metadata": {},
   "outputs": [],
   "source": [
    "# Get specific count of number of strains ordered, not growing, regular strains\n",
    "gwdi_df['Growing?'].value_counts()"
   ]
  },
  {
   "cell_type": "code",
   "execution_count": null,
   "metadata": {},
   "outputs": [],
   "source": [
    "# Create df that will contain segments of well coordinates\n",
    "split_coordinates = gwdi_df['Strains Ordered'].str.split('_').apply(pd.Series)\n",
    "split_coordinates.head()"
   ]
  },
  {
   "cell_type": "code",
   "execution_count": null,
   "metadata": {},
   "outputs": [],
   "source": [
    "# Add plate number of well coordinates to seperate plate number\n",
    "gwdi_df['Plate Number'] = split_coordinates[1]\n",
    "gwdi_df"
   ]
  },
  {
   "cell_type": "code",
   "execution_count": null,
   "metadata": {},
   "outputs": [],
   "source": [
    "# Print rows where the strain was recorded as 'not growing'\n",
    "not_growing = gwdi_df[gwdi_df['Growing?'].isin(['not growing'])]\n",
    "not_growing.drop(['Unnamed: 14'], axis = 1, inplace = True)\n",
    "not_growing"
   ]
  },
  {
   "cell_type": "code",
   "execution_count": null,
   "metadata": {},
   "outputs": [],
   "source": [
    "# Create list of plate numbers that have had wells not grow\n",
    "initial_plate_numbers = not_growing['Plate Number'].tolist()\n",
    "initial_plate_numbers"
   ]
  },
  {
   "cell_type": "code",
   "execution_count": null,
   "metadata": {},
   "outputs": [],
   "source": [
    "# Get rid of duplicate plates numbers in plate_number_list\n",
    "\n",
    "# Create empty list\n",
    "plate_number_list = []\n",
    "\n",
    "# Loop over initial_plate_numbers and only add number to plate_number_list\n",
    "# if that number does not already exist\n",
    "for number in initial_plate_numbers:\n",
    "    if not number in plate_number_list:\n",
    "        plate_number_list.append(number)"
   ]
  },
  {
   "cell_type": "code",
   "execution_count": null,
   "metadata": {},
   "outputs": [],
   "source": [
    "# Check updated plate number list\n",
    "plate_number_list"
   ]
  },
  {
   "cell_type": "code",
   "execution_count": null,
   "metadata": {},
   "outputs": [],
   "source": [
    "# Create framework for new df that will contain well orders from plates that have had\n",
    "# wells not grow\n",
    "dead_plates = pd.DataFrame({'Order #': [], 'Name': [], 'Order Date': [], 'Plated': [],\n",
    "                           'Strains Ordered': [], 'Growing?': [], 'Plate Number': []})\n",
    "\n",
    "# Iterrate over gwdi_df and update dead_plates with orders with matching plate numbers \n",
    "# to plate_number_list of existing plates with wells that did not grow\n",
    "for index, row in gwdi_df.iterrows():\n",
    "    for plate_number in plate_number_list:\n",
    "        if row['Plate Number'] == plate_number:\n",
    "            dead_plates = dead_plates.append({'Order #': row[0], 'Name': row[1], 'Order Date': row[2],  'Plated': row[6],\n",
    "                           'Strains Ordered': row[4], 'Growing?': row[7], 'Plate Number': row[15]}, ignore_index=True)"
   ]
  },
  {
   "cell_type": "code",
   "execution_count": null,
   "metadata": {},
   "outputs": [],
   "source": [
    "# Preview updated df of dead_plates\n",
    "dead_plates"
   ]
  },
  {
   "cell_type": "code",
   "execution_count": null,
   "metadata": {},
   "outputs": [],
   "source": []
  }
 ],
 "metadata": {
  "kernelspec": {
   "display_name": "Python 3",
   "language": "python",
   "name": "python3"
  },
  "language_info": {
   "codemirror_mode": {
    "name": "ipython",
    "version": 3
   },
   "file_extension": ".py",
   "mimetype": "text/x-python",
   "name": "python",
   "nbconvert_exporter": "python",
   "pygments_lexer": "ipython3",
   "version": "3.7.1"
  }
 },
 "nbformat": 4,
 "nbformat_minor": 2
}
